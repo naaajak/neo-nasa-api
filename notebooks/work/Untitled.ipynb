{
 "cells": [
  {
   "cell_type": "code",
   "execution_count": 1,
   "id": "89e0d148-02bb-42a7-b9ab-936a61994a1b",
   "metadata": {},
   "outputs": [
    {
     "name": "stdout",
     "output_type": "stream",
     "text": [
      "ls: cannot access '/tmp/spark_output': No such file or directory\n",
      "stat: cannot statx '/tmp/spark_output': No such file or directory\n"
     ]
    }
   ],
   "source": [
    "# 1. Importowanie bibliotek\n",
    "from pyspark.sql import SparkSession\n",
    "\n",
    "# 2. Połączenie z istniejącą sesją Spark\n",
    "spark = SparkSession.builder \\\n",
    "    .appName(\"NASA NEO Data Analysis\") \\\n",
    "    .getOrCreate()\n",
    "\n",
    "!ls -l /tmp/spark_output\n",
    "!stat /tmp/spark_output"
   ]
  },
  {
   "cell_type": "code",
   "execution_count": null,
   "id": "a2ba7459-7b03-4e10-bbff-9a02dd1f2d35",
   "metadata": {},
   "outputs": [],
   "source": []
  },
  {
   "cell_type": "code",
   "execution_count": null,
   "id": "f2975675-2437-4e53-af2a-44fcd6884b25",
   "metadata": {},
   "outputs": [],
   "source": []
  }
 ],
 "metadata": {
  "kernelspec": {
   "display_name": "Python 3 (ipykernel)",
   "language": "python",
   "name": "python3"
  },
  "language_info": {
   "codemirror_mode": {
    "name": "ipython",
    "version": 3
   },
   "file_extension": ".py",
   "mimetype": "text/x-python",
   "name": "python",
   "nbconvert_exporter": "python",
   "pygments_lexer": "ipython3",
   "version": "3.11.6"
  }
 },
 "nbformat": 4,
 "nbformat_minor": 5
}
